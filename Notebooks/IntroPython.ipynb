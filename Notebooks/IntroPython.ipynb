{
 "cells": [
  {
   "cell_type": "markdown",
   "metadata": {},
   "source": [
    "# Introduction Python"
   ]
  },
  {
   "cell_type": "code",
   "execution_count": null,
   "metadata": {},
   "outputs": [],
   "source": [
    "import sys\n",
    "\n",
    "print('Python version: {}'.format(sys.version))\n",
    "\n",
    "for p in sys.path:\n",
    "    print(p)    "
   ]
  },
  {
   "cell_type": "markdown",
   "metadata": {},
   "source": [
    "# Math"
   ]
  },
  {
   "cell_type": "code",
   "execution_count": null,
   "metadata": {},
   "outputs": [],
   "source": [
    "# The math module consists mostly of thin wrappers around the patform C math library functions.\n",
    "\n",
    "import math\n",
    "\n",
    "x = 100\n",
    "y = 200\n",
    "z = 123.01\n",
    "\n",
    "print(x)\n",
    "print(x * x)\n",
    "print(x / y)\n",
    "print(x / z)\n",
    "\n",
    "print('\\n')\n",
    "print(math.sin(x))\n",
    "print(math.factorial(8))\n",
    "print(math.pi)\n",
    "print(math.e)\n",
    "\n",
    "print('\\n')\n",
    "# Arbitrarily large integers\n",
    "print(1234567890999999 * 12345678903210987654321)\n",
    "print(math.factorial(35))\n",
    "# Power operator **\n",
    "print(2 ** 4)\n",
    "print(2 ** 256)"
   ]
  },
  {
   "cell_type": "markdown",
   "metadata": {},
   "source": [
    "# List data type"
   ]
  },
  {
   "cell_type": "code",
   "execution_count": null,
   "metadata": {},
   "outputs": [],
   "source": [
    "# List\n",
    "x = [1, 2, 3, 4]\n",
    "sub1 = [1, 1, 4]\n",
    "sub2 = [1, 99, 1, 2, 4, 100, 100]\n",
    "\n",
    "print(x[2])\n",
    "print('Max in x = ', max(x))\n",
    "print('3 in x = ', 3 in x)\n",
    "print('3 not in x = ', 3 not in x)\n",
    "\n",
    "print(all(e in x for e in [2, 4, 4]))\n",
    "print(all(e in x for e in [2, 4, 8]))\n",
    "\n",
    "print(\"all  = \", all(e in x for e in sub1))\n",
    "print(\"all  = \", all(e in x for e in sub2))\n",
    "\n",
    "result = []\n",
    "\n",
    "for item in sub2:\n",
    "    if item not in x:\n",
    "        result.append(item)\n",
    "        print(result)"
   ]
  },
  {
   "cell_type": "markdown",
   "metadata": {},
   "source": [
    "# Complex numbers"
   ]
  },
  {
   "cell_type": "code",
   "execution_count": null,
   "metadata": {},
   "outputs": [],
   "source": [
    "# complex numbers\n",
    "c1 = 1 + 2j\n",
    "c2 = 1 - 1j\n",
    "\n",
    "print(c1, c2)\n",
    "\n",
    "cs = [c1, c2, c1 * c2, c1 * c1 * c2 + 100]\n",
    "cs.append(c1 / c1)\n",
    "\n",
    "# cs2 is a reference to cs !!!\n",
    "# cs2 = cs \n",
    "\n",
    "# cs2 is a copy of cs\n",
    "cs2 = cs[:]\n",
    "\n",
    "for c in cs:\n",
    "    print(c)\n",
    "\n",
    "print()\n",
    "for c in cs * 2:\n",
    "    print(c)\n",
    "\n",
    "print()\n",
    "# [start:stop:step]\n",
    "print(cs[0:4:2])\n",
    "print()\n",
    "\n",
    "cs.insert(1, 1j)\n",
    "for c in cs:\n",
    "    print(c)\n",
    "    \n",
    "print()\n",
    "print(cs[-3])\n",
    "\n",
    "print()\n",
    "L = [ e * 1j for e in cs]\n",
    "print(cs[:])"
   ]
  },
  {
   "cell_type": "markdown",
   "metadata": {},
   "source": [
    "# Module numpy"
   ]
  },
  {
   "cell_type": "code",
   "execution_count": null,
   "metadata": {},
   "outputs": [],
   "source": [
    "import numpy as np\n",
    "\n",
    "mat2D = np.zeros((4,2)) \n",
    "\n",
    "print(mat2D, \"\\n\")\n",
    "print(\"ndim = \", mat2D.ndim, \"\\n\")\n",
    "print(\"shape = \", mat2D.shape, \"\\n\")\n",
    "print(\"dtype = \", mat2D.dtype, \"\\n\")\n",
    "\n",
    "mat2D[0,0] = 100\n",
    "\n",
    "print(mat2D)"
   ]
  }
 ],
 "metadata": {
  "kernelspec": {
   "display_name": "Python 3",
   "language": "python",
   "name": "python3"
  },
  "language_info": {
   "codemirror_mode": {
    "name": "ipython",
    "version": 3
   },
   "file_extension": ".py",
   "mimetype": "text/x-python",
   "name": "python",
   "nbconvert_exporter": "python",
   "pygments_lexer": "ipython3",
   "version": "3.6.7"
  }
 },
 "nbformat": 4,
 "nbformat_minor": 2
}
