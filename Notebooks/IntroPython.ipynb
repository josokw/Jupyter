{
 "cells": [
  {
   "cell_type": "markdown",
   "metadata": {},
   "source": [
    "# Introduction Python"
   ]
  },
  {
   "cell_type": "code",
   "execution_count": null,
   "metadata": {},
   "outputs": [],
   "source": [
    "import sys\n",
    "\n",
    "print('Python version: {}'.format(sys.version))\n",
    "\n",
    "for p in sys.path:\n",
    "    print(p)\n",
    "    "
   ]
  },
  {
   "cell_type": "markdown",
   "metadata": {},
   "source": [
    "# Math"
   ]
  },
  {
   "cell_type": "code",
   "execution_count": null,
   "metadata": {},
   "outputs": [],
   "source": [
    "# The math module consists mostly of thin wrappers around the patform C math library functions.\n",
    "\n",
    "import math\n",
    "\n",
    "x = 100\n",
    "y = 200\n",
    "z = 123.01\n",
    "\n",
    "print(x)\n",
    "print(x * x)\n",
    "print(x / y)\n",
    "print(x / z)\n",
    "\n",
    "print('\\n')\n",
    "print(math.sin(x))\n",
    "print(math.factorial(8))\n",
    "print(math.pi)\n",
    "print(math.e)\n",
    "\n",
    "print('\\n')\n",
    "# Arbitrarily large integers\n",
    "print(1234567890999999 * 12345678903210987654321)\n",
    "print(math.factorial(35))\n",
    "# Power operator **\n",
    "print(2 ** 4)\n",
    "print(2 ** 256)\n"
   ]
  },
  {
   "cell_type": "code",
   "execution_count": null,
   "metadata": {},
   "outputs": [],
   "source": []
  }
 ],
 "metadata": {
  "kernelspec": {
   "display_name": "Python 3",
   "language": "python",
   "name": "python3"
  },
  "language_info": {
   "codemirror_mode": {
    "name": "ipython",
    "version": 3
   },
   "file_extension": ".py",
   "mimetype": "text/x-python",
   "name": "python",
   "nbconvert_exporter": "python",
   "pygments_lexer": "ipython3",
   "version": "3.6.7"
  }
 },
 "nbformat": 4,
 "nbformat_minor": 2
}
