{
 "cells": [
  {
   "cell_type": "markdown",
   "metadata": {},
   "source": [
    "# Introduction Python"
   ]
  },
  {
   "cell_type": "code",
   "execution_count": 9,
   "metadata": {},
   "outputs": [
    {
     "name": "stdout",
     "output_type": "stream",
     "text": [
      "Python version: 3.6.7 (default, Oct 22 2018, 11:32:17) \n",
      "[GCC 8.2.0]\n",
      "\n",
      "/usr/lib/python36.zip\n",
      "/usr/lib/python3.6\n",
      "/usr/lib/python3.6/lib-dynload\n",
      "/home/jos/.local/lib/python3.6/site-packages\n",
      "/usr/local/lib/python3.6/dist-packages\n",
      "/usr/lib/python3/dist-packages\n",
      "/usr/lib/python3/dist-packages/IPython/extensions\n",
      "/home/jos/.ipython\n"
     ]
    }
   ],
   "source": [
    "import sys\n",
    "\n",
    "print('Python version: {}'.format(sys.version))\n",
    "\n",
    "for p in sys.path:\n",
    "    print(p)    "
   ]
  },
  {
   "cell_type": "markdown",
   "metadata": {},
   "source": [
    "# Math"
   ]
  },
  {
   "cell_type": "code",
   "execution_count": 10,
   "metadata": {},
   "outputs": [
    {
     "name": "stdout",
     "output_type": "stream",
     "text": [
      "100\n",
      "10000\n",
      "0.5\n",
      "0.8129420372327453\n",
      "\n",
      "\n",
      "-0.5063656411097588\n",
      "40320\n",
      "3.141592653589793\n",
      "2.718281828459045\n",
      "\n",
      "\n",
      "15241578766500369810743210796023345679\n",
      "10333147966386144929666651337523200000000\n",
      "\n",
      "\n",
      "16\n",
      "115792089237316195423570985008687907853269984665640564039457584007913129639936\n"
     ]
    }
   ],
   "source": [
    "# The math module consists mostly of thin wrappers around the patform C math library functions.\n",
    "\n",
    "import math\n",
    "\n",
    "x = 100\n",
    "y = 200\n",
    "z = 123.01\n",
    "\n",
    "print(x)\n",
    "print(x * x)\n",
    "print(x / y)\n",
    "print(x / z)\n",
    "\n",
    "print('\\n')\n",
    "print(math.sin(x))\n",
    "print(math.factorial(8))\n",
    "print(math.pi)\n",
    "print(math.e)\n",
    "print('\\n')\n",
    "\n",
    "# Arbitrarily large integers\n",
    "print(1234567890999999 * 12345678903210987654321)\n",
    "print(math.factorial(35))\n",
    "print('\\n')\n",
    "\n",
    "# Power operator **\n",
    "print(2 ** 4)\n",
    "print(2 ** 256)"
   ]
  },
  {
   "cell_type": "markdown",
   "metadata": {},
   "source": [
    "# List data type"
   ]
  },
  {
   "cell_type": "code",
   "execution_count": 24,
   "metadata": {},
   "outputs": [
    {
     "name": "stdout",
     "output_type": "stream",
     "text": [
      "3\n",
      "Max in x =  4\n",
      "3 in x =  True\n",
      "3 not in x =  False\n",
      "True\n",
      "False\n",
      "all  =  True\n",
      "all  =  False\n",
      "[99]\n",
      "[99, 100]\n",
      "[99, 100, 100]\n"
     ]
    }
   ],
   "source": [
    "# List\n",
    "\n",
    "x = [1, 2, 3, 4]\n",
    "sub1 = [1, 1, 4]\n",
    "sub2 = [1, 99, 1, 2, 4, 100, 100]\n",
    "\n",
    "print(x[2])\n",
    "print('Max in x = ', max(x))\n",
    "print('3 in x = ', 3 in x)\n",
    "print('3 not in x = ', 3 not in x)\n",
    "\n",
    "print(all(e in x for e in [2, 4, 4]))\n",
    "print(all(e in x for e in [2, 4, 8]))\n",
    "\n",
    "print(\"all  = \", all(e in x for e in sub1))\n",
    "print(\"all  = \", all(e in x for e in sub2))\n",
    "\n",
    "result = []\n",
    "\n",
    "for item in sub2:\n",
    "    if item not in x:\n",
    "        result.append(item)\n",
    "        print(result)"
   ]
  },
  {
   "cell_type": "markdown",
   "metadata": {},
   "source": [
    "# Complex numbers"
   ]
  },
  {
   "cell_type": "code",
   "execution_count": 25,
   "metadata": {},
   "outputs": [
    {
     "name": "stdout",
     "output_type": "stream",
     "text": [
      "(1+2j) (1-1j)\n",
      "(1+2j)\n",
      "(1-1j)\n",
      "(3+1j)\n",
      "(101+7j)\n",
      "(1+0j)\n",
      "\n",
      "(1+2j)\n",
      "(1-1j)\n",
      "(3+1j)\n",
      "(101+7j)\n",
      "(1+0j)\n",
      "(1+2j)\n",
      "(1-1j)\n",
      "(3+1j)\n",
      "(101+7j)\n",
      "(1+0j)\n",
      "\n",
      "[(1+2j), (3+1j)]\n",
      "\n",
      "(1+2j)\n",
      "1j\n",
      "(1-1j)\n",
      "(3+1j)\n",
      "(101+7j)\n",
      "(1+0j)\n",
      "\n",
      "(3+1j)\n",
      "\n",
      "[(1+2j), 1j, (1-1j), (3+1j), (101+7j), (1+0j)]\n"
     ]
    }
   ],
   "source": [
    "# complex numbers\n",
    "c1 = 1 + 2j\n",
    "c2 = 1 - 1j\n",
    "\n",
    "print(c1, c2)\n",
    "\n",
    "cs = [c1, c2, c1 * c2, c1 * c1 * c2 + 100]\n",
    "cs.append(c1 / c1)\n",
    "\n",
    "# cs2 is a reference to cs !!!\n",
    "# cs2 = cs \n",
    "\n",
    "# cs2 is a copy of cs\n",
    "cs2 = cs[:]\n",
    "\n",
    "for c in cs:\n",
    "    print(c)\n",
    "\n",
    "print()\n",
    "for c in cs * 2:\n",
    "    print(c)\n",
    "\n",
    "print()\n",
    "# [start:stop:step]\n",
    "print(cs[0:4:2])\n",
    "print()\n",
    "\n",
    "cs.insert(1, 1j)\n",
    "for c in cs:\n",
    "    print(c)\n",
    "    \n",
    "print()\n",
    "print(cs[-3])\n",
    "\n",
    "print()\n",
    "L = [ e * 1j for e in cs]\n",
    "print(cs[:])"
   ]
  },
  {
   "cell_type": "markdown",
   "metadata": {},
   "source": [
    "# Module numpy"
   ]
  },
  {
   "cell_type": "code",
   "execution_count": 26,
   "metadata": {},
   "outputs": [
    {
     "name": "stdout",
     "output_type": "stream",
     "text": [
      "[[0. 0.]\n",
      " [0. 0.]\n",
      " [0. 0.]\n",
      " [0. 0.]] \n",
      "\n",
      "ndim =  2 \n",
      "\n",
      "shape =  (4, 2) \n",
      "\n",
      "dtype =  float64 \n",
      "\n",
      "[[100.   0.]\n",
      " [  0.   0.]\n",
      " [  0.   0.]\n",
      " [  0.   0.]]\n"
     ]
    }
   ],
   "source": [
    "import numpy as np\n",
    "\n",
    "mat2D = np.zeros((4,2)) \n",
    "\n",
    "print(mat2D, \"\\n\")\n",
    "print(\"ndim = \", mat2D.ndim, \"\\n\")\n",
    "print(\"shape = \", mat2D.shape, \"\\n\")\n",
    "print(\"dtype = \", mat2D.dtype, \"\\n\")\n",
    "\n",
    "mat2D[0,0] = 100\n",
    "\n",
    "print(mat2D)"
   ]
  },
  {
   "cell_type": "code",
   "execution_count": 12,
   "metadata": {},
   "outputs": [
    {
     "data": {
      "image/png": "[encoded data removed]",
      "text/plain": [
       "<Figure size 432x288 with 2 Axes>"
      ]
     },
     "metadata": {},
     "output_type": "display_data"
    }
   ],
   "source": [
    "from scipy import *\n",
    "from pylab import *\n",
    "\n",
    "%matplotlib inline\n",
    "\n",
    "f=arange(0.1,1000,0.1)\n",
    "s=2.0j*pi*f\n",
    "\n",
    "p=2.0*pi*10\n",
    "\n",
    "tf=p/(s+p)\n",
    "\n",
    "figure(1)\n",
    "clf()# clear the figure\n",
    "subplot(211)\n",
    "title('tf=p/(s+p)')\n",
    "semilogx(f,20 * log10(abs(tf)))\n",
    "ylabel('Mag. Ratio (dB)')\n",
    "\n",
    "subplot(212)\n",
    "semilogx(f, arctan2(imag(tf), real(tf)) * 180.0 / pi)\n",
    "ylabel('Phase (deg.)')\n",
    "xlabel('Freq (Hz)')\n",
    "\n",
    "show() #may not be necessary depending on how your graphics thread is running.\n",
    "# You can turn plotting off with ioff() if you are going to make multiple changes to a plot \n",
    "# and don't want to re-plot it several times.\n",
    "# This could be used if you were going to plot something and then add labels and titles \n",
    "# and a legend and your plot included many points.\n",
    "\n",
    "#savefig('fig1.png')\n",
    "#savefig('fig1.eps')\n"
   ]
  },
  {
   "cell_type": "markdown",
   "metadata": {},
   "source": [
    "# Filter, map and reduce"
   ]
  },
  {
   "cell_type": "code",
   "execution_count": 11,
   "metadata": {},
   "outputs": [
    {
     "name": "stdout",
     "output_type": "stream",
     "text": [
      "[1, 8, 4, 4, 3, 2, 9, 13]\n",
      "[8, 4, 4, 2]\n",
      "18\n"
     ]
    }
   ],
   "source": [
    "from functools import reduce\n",
    "\n",
    "data = [1, 8, 4, 4, 3, 2, 9, 13]\n",
    "print(data)\n",
    "\n",
    "selected = list(filter(lambda n: n % 2 == 0, data))\n",
    "print(selected)\n",
    "\n",
    "sum = reduce(lambda a, b : a + b, selected)\n",
    "print(sum)"
   ]
  },
  {
   "cell_type": "code",
   "execution_count": null,
   "metadata": {},
   "outputs": [],
   "source": []
  }
 ],
 "metadata": {
  "kernelspec": {
   "display_name": "Python 3",
   "language": "python",
   "name": "python3"
  },
  "language_info": {
   "codemirror_mode": {
    "name": "ipython",
    "version": 3
   },
   "file_extension": ".py",
   "mimetype": "text/x-python",
   "name": "python",
   "nbconvert_exporter": "python",
   "pygments_lexer": "ipython3",
   "version": "3.6.7"
  }
 },
 "nbformat": 4,
 "nbformat_minor": 2
}
