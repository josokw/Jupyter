{
 "cells": [
  {
   "cell_type": "markdown",
   "metadata": {},
   "source": [
    "# SHA256\n"
   ]
  },
  {
   "cell_type": "code",
   "execution_count": 39,
   "metadata": {},
   "outputs": [
    {
     "name": "stdout",
     "output_type": "stream",
     "text": [
      "sha256\n",
      "64\n",
      "e3b0c44298fc1c149afbf4c8996fb92427ae41e4649b934ca495991b7852b855\n",
      "e3b0c44298fc1c149afbf4c8996fb92427ae41e4649b934ca495991b7852b855\n",
      "\n",
      "c9d04c9565fc665c80681fb1d829938026871f66e14f501e08531df66938a789\n",
      "\n",
      "eb452227cfc0d3dcc72e698af0461bd269794348590dd938085926d963dbef66\n",
      "\n",
      "a6a0cf5f65d734cd21e8b10ae2e1d93f5a872f9d21f1731eb27681a01f8e3a48\n",
      "\n"
     ]
    }
   ],
   "source": [
    "import hashlib\n",
    "\n",
    "m = hashlib.sha256()\n",
    "print(m.name)\n",
    "print(m.block_size)\n",
    "print(m.hexdigest())\n",
    "\n",
    "m.update(b'')\n",
    "print(m.hexdigest() + '\\n')\n",
    "m.update(b'Test\\n')\n",
    "print(m.hexdigest() + '\\n')\n",
    "m.update(b'Test ')\n",
    "print(m.hexdigest() + '\\n')\n",
    "m.update(b'Test  ')\n",
    "print(m.hexdigest() + '\\n')\n"
   ]
  }
 ],
 "metadata": {
  "kernelspec": {
   "display_name": "Python 3",
   "language": "python",
   "name": "python3"
  },
  "language_info": {
   "codemirror_mode": {
    "name": "ipython",
    "version": 3
   },
   "file_extension": ".py",
   "mimetype": "text/x-python",
   "name": "python",
   "nbconvert_exporter": "python",
   "pygments_lexer": "ipython3",
   "version": "3.6.7"
  }
 },
 "nbformat": 4,
 "nbformat_minor": 2
}
