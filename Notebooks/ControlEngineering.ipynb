{
 "cells": [
  {
   "cell_type": "markdown",
   "metadata": {},
   "source": [
    "s to z transform\n",
    "================"
   ]
  },
  {
   "cell_type": "code",
   "execution_count": 1,
   "metadata": {},
   "outputs": [
    {
     "name": "stdout",
     "output_type": "stream",
     "text": [
      "[ 1.         -0.71428571]\n",
      "[0.14285714 0.14285714]\n",
      "\n",
      "[ 7. -5.]\n",
      "[1. 1.]\n",
      "==================================\n",
      "[1. 1.]\n",
      "[ 3. -1.]\n",
      "\n"
     ]
    }
   ],
   "source": [
    "import scipy\n",
    "import numpy as np\n",
    "from scipy import signal\n",
    "\n",
    "# 1/(1 + RCs) becomes (1 + z^⁻1) / (1 + 2RC/T) + (1 - 2RC/T) * z^⁻1\n",
    "# RC = 3 and T = 1\n",
    "# 1/(3*s + 1)  becomes (1 + z^⁻1) / (7 - 5  * z^⁻1)\n",
    "\n",
    "b = np.array([1.0])\n",
    "a = np.array([3.0, 1.0])\n",
    "B, A = scipy.signal.bilinear(b, a)\n",
    "\n",
    "print(A)\n",
    "print(B)\n",
    "print()\n",
    "print(7 * A)\n",
    "print(7 * B)\n",
    "print('==================================')\n",
    "\n",
    "b = np.array([1.0, 1.0])\n",
    "a = np.array([1.0])\n",
    "B, A = scipy.signal.bilinear(b, a)\n",
    "print(A)\n",
    "print(B)\n",
    "print()\n"
   ]
  }
 ],
 "metadata": {
  "kernelspec": {
   "display_name": "Python 3",
   "language": "python",
   "name": "python3"
  },
  "language_info": {
   "codemirror_mode": {
    "name": "ipython",
    "version": 3
   },
   "file_extension": ".py",
   "mimetype": "text/x-python",
   "name": "python",
   "nbconvert_exporter": "python",
   "pygments_lexer": "ipython3",
   "version": "3.6.7"
  }
 },
 "nbformat": 4,
 "nbformat_minor": 1
}
