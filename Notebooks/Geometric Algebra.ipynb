{
 "cells": [
  {
   "cell_type": "markdown",
   "metadata": {},
   "source": [
    "# Geometric algebra"
   ]
  },
  {
   "cell_type": "markdown",
   "metadata": {},
   "source": [
    "- 0-blade is a scalar\n",
    "- 1-blade is a vector\n",
    "- 2-blade is a bivector\n",
    "\n",
    "- In a space of dimension n, a blade of grade n-1 is called a pseudovector"
   ]
  },
  {
   "cell_type": "code",
   "execution_count": 1,
   "metadata": {},
   "outputs": [
    {
     "name": "stdout",
     "output_type": "stream",
     "text": [
      "Hello World Clifford Algebra\n",
      "\n",
      "Layout([1, 1, 1], [(), (1,), (2,), (3,), (1, 2), (1, 3), (2, 3), (1, 2, 3)], firstIdx=1, names=['', 'e1', 'e2', 'e3', 'e12', 'e13', 'e23', 'e123'])\n",
      "\n",
      "{'e1': (1^e1), 'e2': (1^e2), 'e3': (1^e3), 'e12': (1^e12), 'e13': (1^e13), 'e23': (1^e23), 'e123': (1^e123)}\n",
      "\n",
      "vector sum        =  (1^e1) + (3^e2)\n",
      "geometric product = (1.0^e12)\n",
      "inner product     =  0\n",
      "outer_product     =  (1.0^e12)\n",
      "(1.0^e12) + (1.0^e23)\n",
      "R =  0.70711 - (0.70711^e23)\n",
      "A =  1.0 + (2.0^e1) + (2.0^e2) + (3.0^e12) + (4.0^e123)\n",
      "Reversed A =  1.0 + (2.0^e1) + (2.0^e2) - (3.0^e12) - (4.0^e123)\n",
      "Grade-0 elements of A =  1.0\n",
      "Grade-1 elements of A =  (2.0^e1) + (2.0^e2)\n",
      "Magnitude A =  34.0\n",
      "Inverse A =  0.06923 + (0.10769^e1) + (0.10769^e2) - (0.09231^e3) + (0.16154^e12) - (0.06154^e13) + (0.06154^e23) - (0.24615^e123)\n",
      "A * A^-1 =  1.0\n",
      "\n",
      "Dual e1 =  -(1.0^e23)\n",
      "Inproduct =  0\n",
      "Dual e1 + e2 =  (1.0^e13) - (1.0^e23)\n",
      "Inp dual e1 + e2 =  0\n"
     ]
    }
   ],
   "source": [
    "from numpy import e, pi, cos, sin\n",
    "from clifford import MultiVector\n",
    "import clifford as cf\n",
    "\n",
    "print(\"Hello World Clifford Algebra\\n\")\n",
    "\n",
    "layout, blades = cf.Cl(3)\n",
    "\n",
    "print(layout)\n",
    "print()\n",
    "print(blades)\n",
    "print()\n",
    "\n",
    "e1 = blades['e1']\n",
    "e2 = blades['e2']\n",
    "e3 = blades['e3']\n",
    "e12 = blades['e12']\n",
    "e23 = blades['e23']\n",
    "e123 = blades['e123']\n",
    "\n",
    "vector_sum = e1 + 3 * e2\n",
    "\n",
    "geometric_product = e1 * e2\n",
    "inner_product = e1 | e2\n",
    "outer_product = e1 ^ e2\n",
    "\n",
    "print('vector sum        = ', vector_sum)\n",
    "print('geometric product =', geometric_product)\n",
    "print('inner product     = ', inner_product)\n",
    "print('outer_product     = ', outer_product)\n",
    "\n",
    "print((e1 ^ e2) + (e2 ^ e3))\n",
    "\n",
    "# Rotor as a sum of a scalar and bivector\n",
    "theta = pi/4\n",
    "R: MultiVector = cos(theta) - sin(theta) * e23\n",
    "print(\"R = \", R)\n",
    "\n",
    "A = 1 + 2 * (e1 + e2) + 3 * e12 + 4 * e123\n",
    "print(\"A = \", A)\n",
    "print(\"Reversed A = \", ~A)\n",
    "print(\"Grade-0 elements of A = \", A(0))\n",
    "print(\"Grade-1 elements of A = \", A(1))\n",
    "print(\"Magnitude A = \", abs(A) ** 2)\n",
    "print(\"Inverse A = \", A.inv())\n",
    "print(\"A * A^-1 = \", A * A.inv())\n",
    "\n",
    "print()\n",
    "print(\"Dual e1 = \", e1.dual())\n",
    "print(\"Inproduct = \", e1 | e1.dual())\n",
    "print(\"Dual e1 + e2 = \", (e1 + e2).dual())\n",
    "print(\"Inp dual e1 + e2 = \", (e1 + e2) | (e1 + e2).dual())\n",
    "\n"
   ]
  },
  {
   "cell_type": "code",
   "execution_count": null,
   "metadata": {},
   "outputs": [],
   "source": []
  }
 ],
 "metadata": {
  "kernelspec": {
   "display_name": "Python 3",
   "language": "python",
   "name": "python3"
  },
  "language_info": {
   "codemirror_mode": {
    "name": "ipython",
    "version": 3
   },
   "file_extension": ".py",
   "mimetype": "text/x-python",
   "name": "python",
   "nbconvert_exporter": "python",
   "pygments_lexer": "ipython3",
   "version": "3.6.7"
  }
 },
 "nbformat": 4,
 "nbformat_minor": 2
}
