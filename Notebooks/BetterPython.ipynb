{
 "cells": [
  {
   "cell_type": "markdown",
   "metadata": {},
   "source": [
    "# Better Python code\n",
    "\n",
    "Source [7 Simple tricks to write better Python code](https://www.youtube.com/watch?v=VBokjWj_cEA)"
   ]
  },
  {
   "cell_type": "code",
   "execution_count": 14,
   "metadata": {},
   "outputs": [
    {
     "name": "stdout",
     "output_type": "stream",
     "text": [
      "3.6.10 |Anaconda, Inc.| (default, Mar 25 2020, 23:51:54) \n",
      "[GCC 7.3.0]\n"
     ]
    }
   ],
   "source": [
    "import sys\n",
    "\n",
    "print(sys.version)"
   ]
  },
  {
   "cell_type": "markdown",
   "metadata": {},
   "source": [
    "## Example 1  using enumerate()"
   ]
  },
  {
   "cell_type": "code",
   "execution_count": 7,
   "metadata": {},
   "outputs": [
    {
     "name": "stdout",
     "output_type": "stream",
     "text": [
      "0 Marseille\n",
      "1 Amsterdam\n",
      "2 London\n",
      "\n",
      "0 Marseille\n",
      "1 Amsterdam\n",
      "2 London\n"
     ]
    }
   ],
   "source": [
    "cities = ['Marseille', 'Amsterdam', 'London']\n",
    "\n",
    "# Bad coding style\n",
    "i = 0\n",
    "for city in cities:\n",
    "    print(i, city)\n",
    "    i += 1\n",
    "\n",
    "print()\n",
    "\n",
    "# The good way\n",
    "for i, city in enumerate(cities):\n",
    "    print(i, city)\n"
   ]
  },
  {
   "cell_type": "markdown",
   "metadata": {},
   "source": [
    "## Example 2 using zip()"
   ]
  },
  {
   "cell_type": "code",
   "execution_count": 8,
   "metadata": {},
   "outputs": [
    {
     "name": "stdout",
     "output_type": "stream",
     "text": [
      "1 2\n",
      "2 4\n",
      "3 6\n",
      "\n",
      "1 2\n",
      "2 4\n",
      "3 6\n"
     ]
    }
   ],
   "source": [
    "x_list = [1, 2, 3]\n",
    "y_list = [2, 4, 6]\n",
    "\n",
    "# Bad coding style\n",
    "for i in range(len(x_list)):\n",
    "    x = x_list[i]\n",
    "    y = y_list[i]\n",
    "    print(x, y)\n",
    "\n",
    "print()\n",
    "    \n",
    "# The good way\n",
    "for x, y in zip(x_list, y_list):\n",
    "    print(x, y)\n"
   ]
  },
  {
   "cell_type": "markdown",
   "metadata": {},
   "source": [
    "## Example 3"
   ]
  },
  {
   "cell_type": "code",
   "execution_count": 22,
   "metadata": {},
   "outputs": [
    {
     "name": "stdout",
     "output_type": "stream",
     "text": [
      "Before x = 5  y = -20\n",
      "After  x = -20  y = 5\n",
      "\n",
      "Before x = -20  y = 5\n",
      "After  x = 5  y = -20\n"
     ]
    }
   ],
   "source": [
    "x = 5\n",
    "y = -20\n",
    "print('Before x = %d  y = %d' % (x,y))\n",
    "\n",
    "# Bad coding style\n",
    "temp = x\n",
    "x = y\n",
    "y = temp\n",
    "print('After  x = %d  y = %d\\n' % (x,y))\n",
    "\n",
    "# The good way\n",
    "print('Before x = %d  y = %d' % (x,y))\n",
    "x, y = y, x\n",
    "print('After  x = %d  y = %d' % (x,y))\n"
   ]
  },
  {
   "cell_type": "markdown",
   "metadata": {},
   "source": [
    "## Example 4 default dict values"
   ]
  },
  {
   "cell_type": "code",
   "execution_count": 28,
   "metadata": {},
   "outputs": [
    {
     "name": "stdout",
     "output_type": "stream",
     "text": [
      "Jos is 65 years old\n",
      "Jos is 65 years old\n",
      "Tom is ?? years old\n"
     ]
    }
   ],
   "source": [
    "ages = {\n",
    "    'Jos' : 65,\n",
    "    'Brigitte' : 66\n",
    "}\n",
    "age = ages['Jos']\n",
    "\n",
    "# Bad coding style\n",
    "name = 'Jos'\n",
    "if name in ages:\n",
    "    age = ages[name]\n",
    "else:\n",
    "    age = unknown\n",
    "print('%s is %s years old' % (name, age))\n",
    "\n",
    "# The good way\n",
    "age = ages.get(name, '??')\n",
    "print('%s is %s years old' % (name, age))\n",
    "name = 'Tom'\n",
    "age = ages.get(name, '??')\n",
    "print('%s is %s years old' % (name, age))\n"
   ]
  },
  {
   "cell_type": "code",
   "execution_count": null,
   "metadata": {},
   "outputs": [],
   "source": []
  }
 ],
 "metadata": {
  "kernelspec": {
   "display_name": "Python 3",
   "language": "python",
   "name": "python3"
  },
  "language_info": {
   "codemirror_mode": {
    "name": "ipython",
    "version": 3
   },
   "file_extension": ".py",
   "mimetype": "text/x-python",
   "name": "python",
   "nbconvert_exporter": "python",
   "pygments_lexer": "ipython3",
   "version": "3.6.10"
  }
 },
 "nbformat": 4,
 "nbformat_minor": 4
}
