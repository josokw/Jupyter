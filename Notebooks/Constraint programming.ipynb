{
 "cells": [
  {
   "cell_type": "markdown",
   "metadata": {},
   "source": [
    "# Constraint programming\n",
    "\n",
    "Python 2\n"
   ]
  },
  {
   "cell_type": "code",
   "execution_count": 1,
   "metadata": {},
   "outputs": [
    {
     "name": "stdout",
     "output_type": "stream",
     "text": [
      "\n",
      "{'A': 7, 'C': 5, 'B': 2, 'E': 4, 'D': 1, 'G': 3, 'F': 8, 'H': 6}\n"
     ]
    }
   ],
   "source": [
    "from constraint import *\n",
    "\n",
    "puzzle = Problem()\n",
    "puzzle.addVariables('ABCDEFGH', range(1, 9))\n",
    "puzzle.addConstraint(AllDifferentConstraint())\n",
    "\n",
    "\n",
    "# puzzel.addConstraint(lambda a, b, c, d,e,f, g, h:\n",
    "#                      True,\n",
    "#                      'ABCDEFGH')\n",
    "\n",
    "\n",
    "def dif(a, b, n=1):\n",
    "    return abs(a - b) > n\n",
    "\n",
    "\n",
    "puzzle.addConstraint(lambda a, b, c, d, e, f, g, h:\n",
    "                     dif(a, b) and dif(a, c) and dif(a, d),\n",
    "                     'ABCDEFGH')\n",
    "\n",
    "puzzle.addConstraint(lambda a, b, c, d, e, f, g, h:\n",
    "                     dif(b, c) and dif(b, e) and dif(b, f),\n",
    "                     'ABCDEFGH')\n",
    "\n",
    "puzzle.addConstraint(lambda a, b, c, d, e, f, g, h:\n",
    "                     dif(c, d) and dif(c, g) and dif(c, f),\n",
    "                     'ABCDEFGH')\n",
    "\n",
    "puzzle.addConstraint(lambda a, b, c, d, e, f, g, h:\n",
    "                     dif(d, f) and dif(d, g),\n",
    "                     'ABCDEFGH')\n",
    "\n",
    "puzzle.addConstraint(lambda a, b, c, d, e, f, g, h:\n",
    "                     dif(e, f) and dif(e, h),\n",
    "                     'ABCDEFGH')\n",
    "\n",
    "puzzle.addConstraint(lambda a, b, c, d, e, f, g, h:\n",
    "                     dif(f, h) and dif(f, g),\n",
    "                     'ABCDEFGH')\n",
    "\n",
    "puzzle.addConstraint(lambda a, b, c, d, e, f, g, h:\n",
    "                     dif(g, h),\n",
    "                     'ABCDEFGH')\n",
    "\n",
    "# puzzle.addConstraint(lambda a, b, c, d, e, f, g, h:\n",
    "#                      a + h > 10,\n",
    "#                      'ABCDEFGH')\n",
    "\n",
    "solutions = sorted(puzzle.getSolutions())\n",
    "\n",
    "print\n",
    "maxsol = 0\n",
    "maxsolc = 0\n",
    "for sol in solutions:\n",
    "    if sol['A'] + sol['H'] > maxsol:\n",
    "        maxsol = sol['A'] + sol['H']\n",
    "        maxsolc = sol\n",
    "\n",
    "print(maxsolc)"
   ]
  }
 ],
 "metadata": {
  "kernelspec": {
   "display_name": "Python 2",
   "language": "python",
   "name": "python2"
  },
  "language_info": {
   "codemirror_mode": {
    "name": "ipython",
    "version": 2
   },
   "file_extension": ".py",
   "mimetype": "text/x-python",
   "name": "python",
   "nbconvert_exporter": "python",
   "pygments_lexer": "ipython2",
   "version": "2.7.15rc1"
  }
 },
 "nbformat": 4,
 "nbformat_minor": 2
}
